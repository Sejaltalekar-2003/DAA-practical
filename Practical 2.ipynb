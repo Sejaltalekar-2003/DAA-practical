{
 "cells": [
  {
   "cell_type": "code",
   "execution_count": 1,
   "id": "1bb679b5",
   "metadata": {},
   "outputs": [
    {
     "name": "stdout",
     "output_type": "stream",
     "text": [
      "Enter the characters separated by space: m p s i\n",
      "Enter the corresponding frequencies separated by space: 1 2 4 4 \n",
      "i -> 0\n",
      "m -> 100\n",
      "p -> 101\n",
      "s -> 11\n"
     ]
    }
   ],
   "source": [
    "import heapq\n",
    "\n",
    "class Node:\n",
    "    def __init__(self, freq, symbol, left=None, right=None):\n",
    "        self.freq = freq\n",
    "        self.symbol = symbol\n",
    "        self.left = left\n",
    "        self.right = right\n",
    "        self.huff = ''\n",
    "\n",
    "    def __lt__(self, nxt):\n",
    "        return self.freq < nxt.freq\n",
    "\n",
    "def printNodes(node, val=''):\n",
    "    newVal = val + str(node.huff)\n",
    "    if node.left:\n",
    "        printNodes(node.left, newVal)\n",
    "    if node.right:\n",
    "        printNodes(node.right, newVal)\n",
    "    if not node.left and not node.right:\n",
    "        print(f\"{node.symbol} -> {newVal}\")\n",
    "\n",
    "def get_input():\n",
    "    chars = input(\"Enter the characters separated by space: \").split()\n",
    "    freq = list(map(int, input(\"Enter the corresponding frequencies separated by space: \").split()))\n",
    "    if len(chars) != len(freq):\n",
    "        print(\"The number of characters and frequencies do not match.\")\n",
    "        return None, None\n",
    "    return chars, freq\n",
    "\n",
    "def huffman_coding():\n",
    "    chars, freq = get_input()\n",
    "    if not chars or not freq:\n",
    "        return\n",
    "    nodes = []\n",
    "    for x in range(len(chars)):\n",
    "        heapq.heappush(nodes, Node(freq[x], chars[x]))\n",
    "    while len(nodes) > 1:\n",
    "        left = heapq.heappop(nodes)\n",
    "        right = heapq.heappop(nodes)\n",
    "        left.huff = '0'\n",
    "        right.huff = '1'\n",
    "        newNode = Node(left.freq + right.freq, left.symbol + right.symbol, left, right)\n",
    "        heapq.heappush(nodes, newNode)\n",
    "    printNodes(nodes[0])\n",
    "\n",
    "huffman_coding()\n"
   ]
  },
  {
   "cell_type": "code",
   "execution_count": null,
   "id": "b4a8fa6d",
   "metadata": {},
   "outputs": [],
   "source": []
  }
 ],
 "metadata": {
  "kernelspec": {
   "display_name": "Python 3 (ipykernel)",
   "language": "python",
   "name": "python3"
  },
  "language_info": {
   "codemirror_mode": {
    "name": "ipython",
    "version": 3
   },
   "file_extension": ".py",
   "mimetype": "text/x-python",
   "name": "python",
   "nbconvert_exporter": "python",
   "pygments_lexer": "ipython3",
   "version": "3.9.12"
  }
 },
 "nbformat": 4,
 "nbformat_minor": 5
}
