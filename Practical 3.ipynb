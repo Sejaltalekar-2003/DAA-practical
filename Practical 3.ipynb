{
 "cells": [
  {
   "cell_type": "code",
   "execution_count": 4,
   "id": "8b5f073f",
   "metadata": {},
   "outputs": [
    {
     "name": "stdout",
     "output_type": "stream",
     "text": [
      "Enter the number of items: 7\n",
      "Enter the value of item 1: 9\n",
      "Enter the weight of item 1: 2\n",
      "Item 1: Value: 9.0, Weight: 2.0, Density: 4.50\n",
      "Enter the value of item 2: 15\n",
      "Enter the weight of item 2: 3\n",
      "Item 2: Value: 15.0, Weight: 3.0, Density: 5.00\n",
      "Enter the value of item 3: 12\n",
      "Enter the weight of item 3: 5\n",
      "Item 3: Value: 12.0, Weight: 5.0, Density: 2.40\n",
      "Enter the value of item 4: 4\n",
      "Enter the weight of item 4: 4\n",
      "Item 4: Value: 4.0, Weight: 4.0, Density: 1.00\n",
      "Enter the value of item 5: 6\n",
      "Enter the weight of item 5: 3\n",
      "Item 5: Value: 6.0, Weight: 3.0, Density: 2.00\n",
      "Enter the value of item 6: 16\n",
      "Enter the weight of item 6: 6\n",
      "Item 6: Value: 16.0, Weight: 6.0, Density: 2.67\n",
      "Enter the value of item 7: 8\n",
      "Enter the weight of item 7: 3\n",
      "Item 7: Value: 8.0, Weight: 3.0, Density: 2.67\n",
      "Enter the capacity of the knapsack: 18\n",
      "Added 3.0 weight of item with density 5.00. Remaining capacity: 15.0\n",
      "Added 2.0 weight of item with density 4.50. Remaining capacity: 13.0\n",
      "Added 6.0 weight of item with density 2.67. Remaining capacity: 7.0\n",
      "Added 3.0 weight of item with density 2.67. Remaining capacity: 4.0\n",
      "Added 4.0 weight of item with density 2.40. Remaining capacity: 0.0\n",
      "Maximum value in the knapsack: 57.60\n"
     ]
    }
   ],
   "source": [
    "class Item:\n",
    "    def __init__(self, value, weight):\n",
    "        self.value = value\n",
    "        self.weight = weight\n",
    "        self.ratio = value / weight  \n",
    "\n",
    "    def __repr__(self):\n",
    "        return f\"Value: {self.value}, Weight: {self.weight}, Density: {self.ratio:.2f}\"\n",
    "\n",
    "\n",
    "def fractional_knapsack(items, capacity):\n",
    "    items.sort(key=lambda x: x.ratio, reverse=True)\n",
    "    total_value = 0\n",
    "    for item in items:\n",
    "        if capacity == 0:\n",
    "            break\n",
    "        take_weight = min(item.weight, capacity)\n",
    "        total_value += take_weight * item.ratio\n",
    "        capacity -= take_weight\n",
    "        print(f\"Added {take_weight} weight of item with density {item.ratio:.2f}. Remaining capacity: {capacity}\")\n",
    "    return total_value\n",
    "\n",
    "\n",
    "def main():\n",
    "    n = int(input(\"Enter the number of items: \"))\n",
    "    items = []\n",
    "    for i in range(n):\n",
    "        value = float(input(f\"Enter the value of item {i + 1}: \"))\n",
    "        weight = float(input(f\"Enter the weight of item {i + 1}: \"))\n",
    "        item = Item(value, weight)\n",
    "        items.append(item)\n",
    "        print(f\"Item {i + 1}: {item}\")\n",
    "    capacity = float(input(\"Enter the capacity of the knapsack: \"))\n",
    "    max_value = fractional_knapsack(items, capacity)\n",
    "    print(f\"Maximum value in the knapsack: {max_value:.2f}\")\n",
    "\n",
    "\n",
    "if __name__ == \"__main__\":\n",
    "    main()\n"
   ]
  },
  {
   "cell_type": "code",
   "execution_count": null,
   "id": "d2964d71",
   "metadata": {},
   "outputs": [],
   "source": []
  }
 ],
 "metadata": {
  "kernelspec": {
   "display_name": "Python 3 (ipykernel)",
   "language": "python",
   "name": "python3"
  },
  "language_info": {
   "codemirror_mode": {
    "name": "ipython",
    "version": 3
   },
   "file_extension": ".py",
   "mimetype": "text/x-python",
   "name": "python",
   "nbconvert_exporter": "python",
   "pygments_lexer": "ipython3",
   "version": "3.9.12"
  }
 },
 "nbformat": 4,
 "nbformat_minor": 5
}
